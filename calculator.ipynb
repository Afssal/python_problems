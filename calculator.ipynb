{
 "cells": [
  {
   "cell_type": "code",
   "execution_count": 4,
   "id": "59053f40",
   "metadata": {},
   "outputs": [
    {
     "name": "stdout",
     "output_type": "stream",
     "text": [
      "Enter first number10\n",
      "Enter second number5\n",
      "Enter operation to perform/\n",
      "2.0\n"
     ]
    }
   ],
   "source": [
    "num_1=int(input(\"Enter first number\"))\n",
    "num_2=int(input(\"Enter second number\"))\n",
    "op=input(\"Enter operation to perform\")\n",
    "if op==\"+\":\n",
    "    res=num_1+num_2\n",
    "elif op==\"-\":\n",
    "    res=num_1-num_2\n",
    "elif op=='*':\n",
    "    res=num_1*num_2\n",
    "elif op=='/':\n",
    "    res=num_1/num_2\n",
    "else:\n",
    "    print(\"Invalid result\")\n",
    "print(res)"
   ]
  },
  {
   "cell_type": "code",
   "execution_count": null,
   "id": "25731058",
   "metadata": {},
   "outputs": [],
   "source": []
  }
 ],
 "metadata": {
  "kernelspec": {
   "display_name": "Python 3 (ipykernel)",
   "language": "python",
   "name": "python3"
  },
  "language_info": {
   "codemirror_mode": {
    "name": "ipython",
    "version": 3
   },
   "file_extension": ".py",
   "mimetype": "text/x-python",
   "name": "python",
   "nbconvert_exporter": "python",
   "pygments_lexer": "ipython3",
   "version": "3.10.11"
  }
 },
 "nbformat": 4,
 "nbformat_minor": 5
}
