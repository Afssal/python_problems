{
 "cells": [
  {
   "cell_type": "code",
   "execution_count": 5,
   "id": "fc13b864",
   "metadata": {},
   "outputs": [
    {
     "name": "stdout",
     "output_type": "stream",
     "text": [
      "Enter the size of list10\n",
      "Enter the number2\n",
      "Enter the number6\n",
      "Enter the number8\n",
      "Enter the number1\n",
      "Enter the number3\n",
      "Enter the number99\n",
      "Enter the number23\n",
      "Enter the number4\n",
      "Enter the number5\n",
      "Enter the number66\n",
      "[2, 6, 8, 1, 3, 99, 23, 4, 5, 66]\n",
      "[2, 6, 8, 4, 66]\n"
     ]
    }
   ],
   "source": [
    "n=int(input(\"Enter the size of list\"))\n",
    "li=[]\n",
    "for i in range(0,n):\n",
    "    ele=int(input(\"Enter the number\"))\n",
    "    li.append(ele)\n",
    "print(li)\n",
    "even=[li[x] for x in range(len(li)) if li[x]%2==0]\n",
    "print(even)"
   ]
  },
  {
   "cell_type": "code",
   "execution_count": null,
   "id": "1199026c",
   "metadata": {},
   "outputs": [],
   "source": []
  }
 ],
 "metadata": {
  "kernelspec": {
   "display_name": "Python 3 (ipykernel)",
   "language": "python",
   "name": "python3"
  },
  "language_info": {
   "codemirror_mode": {
    "name": "ipython",
    "version": 3
   },
   "file_extension": ".py",
   "mimetype": "text/x-python",
   "name": "python",
   "nbconvert_exporter": "python",
   "pygments_lexer": "ipython3",
   "version": "3.10.11"
  }
 },
 "nbformat": 4,
 "nbformat_minor": 5
}
